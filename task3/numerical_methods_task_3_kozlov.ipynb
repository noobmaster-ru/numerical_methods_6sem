{
  "nbformat": 4,
  "nbformat_minor": 0,
  "metadata": {
    "colab": {
      "provenance": [],
      "toc_visible": true,
      "authorship_tag": "ABX9TyNJqoXi4Jgv7Yx9ZH9e2C1Y",
      "include_colab_link": true
    },
    "kernelspec": {
      "name": "python3",
      "display_name": "Python 3"
    },
    "language_info": {
      "name": "python"
    }
  },
  "cells": [
    {
      "cell_type": "markdown",
      "metadata": {
        "id": "view-in-github",
        "colab_type": "text"
      },
      "source": [
        "<a href=\"https://colab.research.google.com/github/noobmaster-ru/numerical_methods_6sem/blob/main/numerical_methods_task_3_kozlov.ipynb\" target=\"_parent\"><img src=\"https://colab.research.google.com/assets/colab-badge.svg\" alt=\"Open In Colab\"/></a>"
      ]
    },
    {
      "cell_type": "markdown",
      "source": [
        "# Вычисление"
      ],
      "metadata": {
        "id": "-1nLb7iLdpvW"
      }
    },
    {
      "cell_type": "markdown",
      "source": [
        "## Импорт библиотек"
      ],
      "metadata": {
        "id": "J9MT4ap4Z_4s"
      }
    },
    {
      "cell_type": "code",
      "source": [
        "# импорт библиотек\n",
        "import numpy as np\n",
        "import matplotlib.pyplot as plt\n",
        "from scipy.linalg import solve\n",
        "import math"
      ],
      "metadata": {
        "id": "z7JG9sbjT3Uk"
      },
      "execution_count": null,
      "outputs": []
    },
    {
      "cell_type": "markdown",
      "source": [
        "## Задание начальных и граничных условий"
      ],
      "metadata": {
        "id": "Z_7QhDeFaEIv"
      }
    },
    {
      "cell_type": "code",
      "source": [
        "# Задание коэффициентов\n",
        "def p(x):\n",
        "    if 0 <= x <= np.pi / 3:\n",
        "        return (x - np.pi / 2) ** 2\n",
        "    elif np.pi / 3 < x <= 2 * np.pi / 3:\n",
        "        return x ** 2\n",
        "    elif 2 * np.pi / 3 < x <= np.pi:\n",
        "        return 0.1 + (x - np.pi) ** 2\n",
        "\n",
        "def q(x):\n",
        "    return 1.0\n",
        "\n",
        "def f(x):\n",
        "    if 0 <= x <= np.pi / 2:\n",
        "        return np.sin(x)\n",
        "    else:\n",
        "        return 1 + np.sin(x)\n"
      ],
      "metadata": {
        "id": "sivXsoXkT7w7"
      },
      "execution_count": null,
      "outputs": []
    },
    {
      "cell_type": "markdown",
      "source": [
        "## Генерация сетки"
      ],
      "metadata": {
        "id": "9BxvZX5RaN5x"
      }
    },
    {
      "cell_type": "code",
      "source": [
        "# Неравномерная сетка с сгущением к концам\n",
        "def generate_grid(N):\n",
        "    # xi = np.linspace(0, 1, N+1)\n",
        "    # x = np.pi * xi**2  # сгущение к нулю\n",
        "    # return x\n",
        "\n",
        "    \"\"\"\n",
        "    Генерация неравномерной сетки с узлами в точках pi/3 и 2pi/3.\n",
        "    Сетка состоит из 3 подотрезков: [0, pi/3], [pi/3, 2pi/3], [2pi/3, pi].\n",
        "    \"\"\"\n",
        "    x0 = 0\n",
        "    x1 = np.pi / 3\n",
        "    x2 = 2 * np.pi / 3\n",
        "    x3 = np.pi\n",
        "\n",
        "    # Делим количество отрезков пропорционально длинам подотрезков\n",
        "    total_length = x3 - x0\n",
        "    len1 = x1 - x0\n",
        "    len2 = x2 - x1\n",
        "    len3 = x3 - x2\n",
        "\n",
        "    N1 = int(np.round(N * len1 / total_length))\n",
        "    N2 = int(np.round(N * len2 / total_length))\n",
        "    N3 = N - N1 - N2  # остаток\n",
        "\n",
        "    # Строим сетку на каждом подотрезке, включая точки стыков\n",
        "    grid1 = np.linspace(x0, x1, N1 + 1, endpoint=False)  # [0, pi/3)\n",
        "    grid2 = np.linspace(x1, x2, N2 + 1, endpoint=False)  # [pi/3, 2pi/3)\n",
        "    grid3 = np.linspace(x2, x3, N3 + 1)                  # [2pi/3, pi]\n",
        "\n",
        "    # Объединяем и возвращаем\n",
        "    x = np.concatenate([grid1, grid2, grid3])\n",
        "    # Визуализация\n",
        "    plt.figure(figsize=(10, 1.5))\n",
        "    plt.eventplot(x, orientation='horizontal', colors='blue', linewidths=1.2)\n",
        "\n",
        "    # Добавим вертикальные линии в точках разрыва\n",
        "    plt.axvline(np.pi/3, color='red', linestyle='--', label=r'$\\pi/3$')\n",
        "    plt.axvline(2*np.pi/3, color='green', linestyle='--', label=r'$2\\pi/3$')\n",
        "\n",
        "    plt.title(\"Неравномерная сетка с узлами в точках разрыва\")\n",
        "    plt.yticks([])\n",
        "    plt.xlabel(\"x\")\n",
        "    plt.legend()\n",
        "    plt.grid(True, axis='x', linestyle=':', alpha=0.5)\n",
        "    plt.tight_layout()\n",
        "    plt.show()\n",
        "    return x"
      ],
      "metadata": {
        "id": "yeGc9RQCZmMA"
      },
      "execution_count": null,
      "outputs": []
    },
    {
      "cell_type": "code",
      "source": [
        "# Дискретизация: центральные разности + интегральная форма\n",
        "def build_matrix_and_rhs(x):\n",
        "    N = len(x) - 1\n",
        "    A = np.zeros((N+1, N+1))\n",
        "    b = np.zeros(N+1)\n",
        "\n",
        "    # Внутренние узлы\n",
        "    for i in range(1, N):\n",
        "        h_minus = x[i] - x[i-1]\n",
        "        h_plus = x[i+1] - x[i]\n",
        "        h = h_minus + h_plus\n",
        "\n",
        "        pL = p((x[i] + x[i-1]) / 2)\n",
        "        pR = p((x[i+1] + x[i]) / 2)\n",
        "\n",
        "        A[i, i-1] = -pL / h_minus\n",
        "        A[i, i] = pL / h_minus + pR / h_plus + q(x[i]) * h / 2\n",
        "        A[i, i+1] = -pR / h_plus\n",
        "        b[i] = f(x[i]) * h / 2\n",
        "\n",
        "    # Граничные условия\n",
        "    A[0, 0] = 1\n",
        "    b[0] = 0  # u(0) = 0\n",
        "\n",
        "    # p(L) u' + u = 1\n",
        "    hN = x[N] - x[N-1]\n",
        "    A[N, N-1] = -p((x[N]+x[N-1])/2) / hN\n",
        "    A[N, N] = p((x[N]+x[N-1])/2) / hN + 1\n",
        "    b[N] = 1\n",
        "\n",
        "    return A, b"
      ],
      "metadata": {
        "id": "t4XPK72VZ_oY"
      },
      "execution_count": null,
      "outputs": []
    },
    {
      "cell_type": "code",
      "source": [
        "# Основной расчет\n",
        "def solve_bvp(N):\n",
        "    # вот здесь надо сетку строить неравномерную - три отрезка - на каждом отрезке, допустим, N точек , правый конец не включается\n",
        "    # причем надо попасть узлом в точку разрыва - чтобы точка разрыва была в каком-то узле\n",
        "    x = generate_grid(N)\n",
        "\n",
        "    A, b = build_matrix_and_rhs(x)\n",
        "    u = solve(A, b) # надо заменить на численным метод\n",
        "    return x, u"
      ],
      "metadata": {
        "id": "rHnmr1p9aHo4"
      },
      "execution_count": null,
      "outputs": []
    },
    {
      "cell_type": "code",
      "execution_count": null,
      "metadata": {
        "id": "0rA7Arua-2MT"
      },
      "outputs": [],
      "source": [
        "# Демонстрация\n",
        "N = 100\n",
        "x, u = solve_bvp(N)\n",
        "\n",
        "fig = plt.figure(figsize=(16, 8))\n",
        "plt.plot(x, u, label=f\"N={N}\", color=\"blue\", linewidth = 1.5)\n",
        "\n",
        "plt.xlabel(\"x\",labelpad = 10, fontsize = 20, fontweight = 'bold')\n",
        "plt.ylabel(\"u(x)\",rotation = 0 ,labelpad = 10, fontsize = 20, fontweight = 'bold')\n",
        "\n",
        "plt.title(\"Численное решение краевой задачи\", fontsize=20)\n",
        "\n",
        "plt.grid(True, color='gray' , which='both', linestyle='--', linewidth=0.6, alpha=0.9)\n",
        "plt.minorticks_on()\n",
        "plt.grid(True, which='minor', linestyle=':', linewidth=0.6, alpha=0.6)\n",
        "\n",
        "\n",
        "plt.legend()\n",
        "plt.show()"
      ]
    },
    {
      "cell_type": "markdown",
      "source": [
        "# Оценка сходимости методом Рунге"
      ],
      "metadata": {
        "id": "pqjmdYlBdmdt"
      }
    },
    {
      "cell_type": "code",
      "source": [
        "def linear_interp(N, u2_vals, r):\n",
        "    \"\"\"Линейная интерполяция y(x) по массивам x_vals, y_vals\"\"\"\n",
        "    result = []\n",
        "    for i in range(N):\n",
        "      result.append(u2_vals[i*r])\n",
        "    return result"
      ],
      "metadata": {
        "id": "G-QWIlT8fNWk"
      },
      "execution_count": null,
      "outputs": []
    },
    {
      "cell_type": "code",
      "source": [
        "def max_norm_error(u1, u2_interp):\n",
        "    \"\"\"Вычисление нормы max|u1 - u2_interp|\"\"\"\n",
        "    max_err = 0.0\n",
        "    for a, b in zip(u1, u2_interp):\n",
        "        err = abs(a - b)\n",
        "        if err > max_err:\n",
        "            max_err = err\n",
        "    return max_err"
      ],
      "metadata": {
        "id": "HVdwaST4fJDV"
      },
      "execution_count": null,
      "outputs": []
    },
    {
      "cell_type": "code",
      "source": [
        "def mse_norm(u):\n",
        "  mse_norm = 0.0\n",
        "  for i in range(len(u)):\n",
        "    mse_norm += u[i]*u[i]\n",
        "  mse_norm = np.sqrt(mse_norm)\n",
        "  return mse_norm"
      ],
      "metadata": {
        "id": "VwCE29r-Vt7I"
      },
      "execution_count": null,
      "outputs": []
    },
    {
      "cell_type": "code",
      "source": [
        "# Метод Рунге для оценки порядка\n",
        "def runge_convergence(N_coarse):\n",
        "  r = 2\n",
        "  x1, u1 = solve_bvp(N_coarse)\n",
        "  x2, u2 = solve_bvp(N_coarse * r)\n",
        "  x4, u4 = solve_bvp(N_coarse * r * r)\n",
        "\n",
        "\n",
        "  # вот здесь неправильно наверно считаю - надо вместо ошибок брать численное решение и искать норму между численным решение и истинным,\n",
        "  #         но вот как найти истинное решение пока не понял\n",
        "\n",
        "  # Интерполяция на мелкой сетке к крупной\n",
        "  u12_interp = linear_interp(N_coarse, u2, r)\n",
        "  u14_interp = linear_interp(N_coarse, u4, r*r)\n",
        "\n",
        "  mse_norm_n = mse_norm(u1)\n",
        "  mse_norm_2n = mse_norm(u2)\n",
        "  mse_norm_4n = mse_norm(u4)\n",
        "  rate = np.log2((mse_norm_n - mse_norm_2n) / (mse_norm_2n - mse_norm_4n))\n",
        "\n",
        "  # error_n = max_norm_error(u1, u2_interp)\n",
        "  # error_2n = max_norm_error(u1, u2_interp)\n",
        "  # rate = np.log2( (errors[i-1] - errors[i]) / (errors[i] - errors[i+1]))\n",
        "  return  rate"
      ],
      "metadata": {
        "id": "OWVHcf4idldJ"
      },
      "execution_count": null,
      "outputs": []
    },
    {
      "cell_type": "code",
      "source": [
        "# Оценка сходимости\n",
        "Ns = [100, 200, 400, 800]\n",
        "for N in Ns:\n",
        "  rate = runge_convergence(N)\n",
        "  print(f\"N={N}: порядок ≈ {rate:.2f}\")\n",
        "  # print(f\"N={N}: error_n = {error_n:.6f}, порядок ≈ {rate:.2f}\")\n",
        "\n",
        "# print(errors)\n",
        "# for i in range(1,len(errors)-1):\n",
        "  # rate = np.log2( (errors[i-1] - errors[i]) / (errors[i] - errors[i+1]))\n",
        "  # print(errors[i-1] - errors[i])\n",
        "  # print(errors[i] - errors[i+1])"
      ],
      "metadata": {
        "id": "oDhvJdx2af99"
      },
      "execution_count": null,
      "outputs": []
    }
  ]
}
